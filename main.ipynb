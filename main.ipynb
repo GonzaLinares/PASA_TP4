{
 "cells": [
  {
   "cell_type": "markdown",
   "metadata": {},
   "source": [
    "# $\\textit{Procesamiento de arreglos}$\n",
    "$\\textit{Por Agustin Gullino y Gonzalo Linares}$"
   ]
  },
  {
   "cell_type": "code",
   "execution_count": 2,
   "metadata": {},
   "outputs": [],
   "source": [
    "import pandas as pd\n",
    "import numpy as np\n",
    "import matplotlib.pyplot as plt\n",
    "import seaborn as sns\n",
    "import scipy.signal as sp\n",
    "import scipy.io as io\n",
    "import helper as hp\n",
    "import importlib\n",
    "from numpy.fft import fft, rfft\n",
    "from numpy.fft import fftshift, fftfreq, rfftfreq\n",
    "from IPython.display import Audio\n",
    "from statsmodels.tsa.stattools import pacf, acf\n",
    "from statsmodels.tsa.ar_model import AutoReg, ar_select_order\n",
    "%load_ext autoreload\n",
    "%autoreload 2\n",
    "%matplotlib widget"
   ]
  },
  {
   "cell_type": "code",
   "execution_count": 37,
   "metadata": {},
   "outputs": [],
   "source": [
    "fc = 2000"
   ]
  },
  {
   "cell_type": "code",
   "execution_count": 38,
   "metadata": {},
   "outputs": [],
   "source": [
    "fs, arr, path = hp.getRecordedSignals()"
   ]
  },
  {
   "cell_type": "code",
   "execution_count": 87,
   "metadata": {},
   "outputs": [
    {
     "data": {
      "text/plain": [
       "array([[    0,    23,  -140, ..., -4958, -4728, -4563],\n",
       "       [    0,   360,   705, ..., -4797, -4541, -4264],\n",
       "       [    0,  -513,   -75, ..., -4003, -3020, -2424],\n",
       "       ...,\n",
       "       [    0,  -314,   738, ..., -2934, -3107, -3488],\n",
       "       [    0,   559,   -63, ..., -7853, -7090, -6557],\n",
       "       [    0, -1580,  -405, ..., -9678, -9764, -9809]], dtype=int16)"
      ]
     },
     "execution_count": 87,
     "metadata": {},
     "output_type": "execute_result"
    }
   ],
   "source": [
    "arr[\"sub16cm\"]"
   ]
  },
  {
   "cell_type": "code",
   "execution_count": 99,
   "metadata": {},
   "outputs": [
    {
     "data": {
      "text/plain": [
       "(7, 543489)"
      ]
     },
     "execution_count": 99,
     "metadata": {},
     "output_type": "execute_result"
    }
   ],
   "source": [
    "M = len(arr[\"sub16cm\"])\n",
    "sub16cmDem = np.swapaxes(arr[\"sub16cm\"], 0, 1) * np.exp(2j*np.pi*fc/fs*np.arange(M))\n",
    "sub16cmDem = np.swapaxes(sub16cmDem, 0, 1)\n",
    "sub16cmDem.shape #Aca deberian estar las se;ales demoduladas"
   ]
  }
 ],
 "metadata": {
  "kernelspec": {
   "display_name": "Python 3",
   "language": "python",
   "name": "python3"
  },
  "language_info": {
   "codemirror_mode": {
    "name": "ipython",
    "version": 3
   },
   "file_extension": ".py",
   "mimetype": "text/x-python",
   "name": "python",
   "nbconvert_exporter": "python",
   "pygments_lexer": "ipython3",
   "version": "3.10.4"
  }
 },
 "nbformat": 4,
 "nbformat_minor": 2
}
